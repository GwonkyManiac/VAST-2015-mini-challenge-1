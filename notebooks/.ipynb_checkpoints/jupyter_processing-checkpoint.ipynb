{
 "cells": [
  {
   "cell_type": "code",
   "execution_count": 2,
   "id": "5ad8e5b1-d16c-4e58-be32-2814f613bfd5",
   "metadata": {},
   "outputs": [
    {
     "name": "stdout",
     "output_type": "stream",
     "text": [
      "   Unnamed: 0         id  timeSpentInPark  daysAtPark  numberCheckin  \\\n",
      "0           0  1591741.0          41994.0         1.0           27.0   \n",
      "1           1   825652.0         120222.0         3.0           58.0   \n",
      "2           2   179386.0         103244.0         3.0           50.0   \n",
      "3           3   531348.0          57521.0         2.0           28.0   \n",
      "4           4  1483004.0          42042.0         1.0           20.0   \n",
      "\n",
      "   distanceTraveled  numberThrill  numberKiddie  numberEveryone  numberShows  \\\n",
      "0       1054.563445          11.0           8.0             6.0          2.0   \n",
      "1       2282.952296          24.0          16.0            12.0          6.0   \n",
      "2       2303.348577          24.0           7.0            12.0          7.0   \n",
      "3       1181.540306          13.0           2.0             9.0          4.0   \n",
      "4        875.279215          10.0           3.0             1.0          6.0   \n",
      "\n",
      "   numberInfo  \n",
      "0         0.0  \n",
      "1         0.0  \n",
      "2         0.0  \n",
      "3         0.0  \n",
      "4         0.0  \n"
     ]
    }
   ],
   "source": [
    "import pandas as pd\n",
    "import numpy as np\n",
    "import matplotlib.pyplot as plt\n",
    "\n",
    "df_goups = pd.read_csv('../data/PeopleAtPark.csv')\n",
    "print(df_goups.head())"
   ]
  },
  {
   "cell_type": "markdown",
   "id": "e602a84a-11c9-4f57-ba9a-484eb32d1316",
   "metadata": {},
   "source": [
    "# Get basic information about the dataset\n",
    "\n",
    "from describe we see that we have non-null"
   ]
  },
  {
   "cell_type": "code",
   "execution_count": null,
   "id": "269ac497-6447-4f1b-8567-e38ef1de19ce",
   "metadata": {},
   "outputs": [],
   "source": [
    "\n",
    "# Summary statistics\n",
    "print(df_goups.info())\n"
   ]
  },
  {
   "cell_type": "markdown",
   "id": "4f1d6e90-3d9c-47fe-a15e-ae5124be38f2",
   "metadata": {},
   "source": [
    "From describe we see alot of interestng info from the mean of some columns; averaging 56654 sekunds, 28 check ins, number pf thrills 15"
   ]
  },
  {
   "cell_type": "raw",
   "id": "a7b1aa18-a27e-4f51-a69e-506dc26bed6a",
   "metadata": {},
   "source": []
  },
  {
   "cell_type": "code",
   "execution_count": 9,
   "id": "9356a641-66f8-46d6-830a-bf96116d1bb7",
   "metadata": {},
   "outputs": [
    {
     "name": "stdout",
     "output_type": "stream",
     "text": [
      "         Unnamed: 0            id  timeSpentInPark    daysAtPark  \\\n",
      "count  11455.000000  1.145500e+04     11455.000000  11455.000000   \n",
      "mean    5727.000000  1.054906e+06     56654.309123      1.537931   \n",
      "std     3306.918001  6.050129e+05     31621.107341      0.751767   \n",
      "min        0.000000  4.360000e+02         0.000000      1.000000   \n",
      "25%     2863.500000  5.361820e+05     35343.000000      1.000000   \n",
      "50%     5727.000000  1.053269e+06     44759.000000      1.000000   \n",
      "75%     8590.500000  1.581155e+06     77154.000000      2.000000   \n",
      "max    11454.000000  2.096715e+06    147569.000000      3.000000   \n",
      "\n",
      "       numberCheckin  distanceTraveled  numberThrill  numberKiddie  \\\n",
      "count   11455.000000      11455.000000  11455.000000  11455.000000   \n",
      "mean       28.706940       1215.017946     15.289393      4.973549   \n",
      "std        19.226139        830.422827     13.251149      4.088691   \n",
      "min         1.000000          0.000000      0.000000      0.000000   \n",
      "25%        16.000000        667.484020      7.000000      2.000000   \n",
      "50%        22.000000        948.035793     11.000000      4.000000   \n",
      "75%        35.000000       1524.078666     19.000000      7.000000   \n",
      "max       120.000000       5091.023219     94.000000     27.000000   \n",
      "\n",
      "       numberEveryone   numberShows    numberInfo  \n",
      "count    11455.000000  11455.000000  11455.000000  \n",
      "mean         5.646355      2.753121      0.044522  \n",
      "std          4.421920      2.189388      0.218591  \n",
      "min          0.000000      0.000000      0.000000  \n",
      "25%          3.000000      1.000000      0.000000  \n",
      "50%          4.000000      2.000000      0.000000  \n",
      "75%          8.000000      4.000000      0.000000  \n",
      "max         32.000000     14.000000      3.000000  \n"
     ]
    }
   ],
   "source": [
    "\n",
    "# Summary statistics\n",
    "print(df_goups.describe())"
   ]
  }
 ],
 "metadata": {
  "kernelspec": {
   "display_name": "Python 3 (ipykernel)",
   "language": "python",
   "name": "python3"
  },
  "language_info": {
   "codemirror_mode": {
    "name": "ipython",
    "version": 3
   },
   "file_extension": ".py",
   "mimetype": "text/x-python",
   "name": "python",
   "nbconvert_exporter": "python",
   "pygments_lexer": "ipython3",
   "version": "3.11.3"
  }
 },
 "nbformat": 4,
 "nbformat_minor": 5
}
